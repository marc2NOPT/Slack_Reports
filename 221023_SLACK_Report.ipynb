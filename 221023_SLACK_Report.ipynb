{
 "cells": [
  {
   "cell_type": "code",
   "execution_count": 1,
   "id": "ce0c9f3c",
   "metadata": {},
   "outputs": [],
   "source": [
    "%matplotlib inline\n",
    "import matplotlib.pyplot as plt\n",
    "import matplotlib as mpl\n",
    "from matplotlib import cm\n",
    "import matplotlib.dates as mdates\n",
    "from matplotlib.ticker import LinearLocator, FormatStrFormatter, FixedFormatter, MultipleLocator, AutoMinorLocator\n",
    "import pandas as pd\n",
    "import numpy as np\n",
    "import datetime\n",
    "#import xlsxwriter\n",
    "from datetime import date\n",
    "\n",
    "import time\n",
    "import plotly.graph_objects as go\n",
    "\n",
    "plt.style.use('ggplot')"
   ]
  },
  {
   "cell_type": "code",
   "execution_count": 2,
   "id": "3b9ba38c",
   "metadata": {},
   "outputs": [
    {
     "data": {
      "text/html": [
       "<style>.container{ width:95% !important;}</style>"
      ],
      "text/plain": [
       "<IPython.core.display.HTML object>"
      ]
     },
     "metadata": {},
     "output_type": "display_data"
    }
   ],
   "source": [
    "\"\"\" Jupyter Browser Datendarstellung\"\"\"\n",
    "pd.options.display.max_rows = 1000\n",
    "pd.options.display.max_columns = 100\n",
    "pd.options.display.float_format= '{:,.3f}'.format\n",
    "\n",
    "from IPython.core.display import display, HTML\n",
    "display(HTML(\"<style>.container{ width:95% !important;}</style>\"))"
   ]
  },
  {
   "cell_type": "code",
   "execution_count": 3,
   "id": "80cf71a5",
   "metadata": {},
   "outputs": [],
   "source": [
    "#File Import\n",
    "Pfad = 'null Enterprise Analytics Prior 30 Days - Oct 23 2022.csv'\n",
    "\n",
    "dat= pd.read_csv(Pfad,\n",
    "                  header = 0, \n",
    "                  index_col=False,\n",
    "                  sep = ',',\n",
    "                  delimiter=None,\n",
    "                  na_values=' ',\n",
    "                  dayfirst = False,\n",
    "                  parse_dates = [0],\n",
    "                  skiprows = 0,\n",
    "                  thousands = r',',\n",
    "                  decimal = r'.',\n",
    "                  encoding = 'utf-8')"
   ]
  },
  {
   "cell_type": "code",
   "execution_count": 4,
   "id": "3e746359",
   "metadata": {
    "collapsed": true
   },
   "outputs": [
    {
     "name": "stdout",
     "output_type": "stream",
     "text": [
      "<class 'pandas.core.frame.DataFrame'>\n",
      "RangeIndex: 27 entries, 0 to 26\n",
      "Data columns (total 30 columns):\n",
      " #   Column                                 Non-Null Count  Dtype         \n",
      "---  ------                                 --------------  -----         \n",
      " 0   Date                                   27 non-null     datetime64[ns]\n",
      " 1   Total Enabled Membership               27 non-null     int64         \n",
      " 2   Enabled Full Members                   27 non-null     int64         \n",
      " 3   Enabled Guests                         27 non-null     int64         \n",
      " 4   Daily active members                   27 non-null     int64         \n",
      " 5   Daily members posting messages         27 non-null     int64         \n",
      " 6   Weekly active members                  27 non-null     int64         \n",
      " 7   Weekly members posting messages        27 non-null     int64         \n",
      " 8   Messages in public channels            27 non-null     int64         \n",
      " 9   Messages in private channels           27 non-null     int64         \n",
      " 10  Messages in shared channels            27 non-null     int64         \n",
      " 11  Messages in DMs                        27 non-null     int64         \n",
      " 12  Percent of messages, public channels   27 non-null     float64       \n",
      " 13  Percent of messages, private channels  27 non-null     float64       \n",
      " 14  Percent of messages, DMs               27 non-null     float64       \n",
      " 15  Percent of views, public channels      27 non-null     float64       \n",
      " 16  Percent of views, private channels     27 non-null     float64       \n",
      " 17  Percent of views, DMs                  27 non-null     float64       \n",
      " 18  Total Full Members                     27 non-null     int64         \n",
      " 19  Total Guests                           27 non-null     int64         \n",
      " 20  Total Claimed Full Members             27 non-null     int64         \n",
      " 21  Total Claimed Guests                   27 non-null     int64         \n",
      " 22  Total Members                          27 non-null     int64         \n",
      " 23  Total Claimed Members                  27 non-null     int64         \n",
      " 24  Files uploaded                         27 non-null     int64         \n",
      " 25  Messages posted by members             27 non-null     int64         \n",
      " 26  Name                                   27 non-null     int64         \n",
      " 27  Public channels, single-workspace      27 non-null     int64         \n",
      " 28  Messages posted                        27 non-null     int64         \n",
      " 29  Messages posted by apps                27 non-null     int64         \n",
      "dtypes: datetime64[ns](1), float64(6), int64(23)\n",
      "memory usage: 6.5 KB\n"
     ]
    }
   ],
   "source": [
    "dat.info()"
   ]
  },
  {
   "cell_type": "code",
   "execution_count": 5,
   "id": "b140faa0",
   "metadata": {
    "collapsed": true
   },
   "outputs": [
    {
     "data": {
      "text/plain": [
       "Index(['Date', 'Total Enabled Membership', 'Enabled Full Members',\n",
       "       'Enabled Guests', 'Daily active members',\n",
       "       'Daily members posting messages', 'Weekly active members',\n",
       "       'Weekly members posting messages', 'Messages in public channels',\n",
       "       'Messages in private channels', 'Messages in shared channels',\n",
       "       'Messages in DMs', 'Percent of messages, public channels',\n",
       "       'Percent of messages, private channels', 'Percent of messages, DMs',\n",
       "       'Percent of views, public channels',\n",
       "       'Percent of views, private channels', 'Percent of views, DMs',\n",
       "       'Total Full Members', 'Total Guests', 'Total Claimed Full Members',\n",
       "       'Total Claimed Guests', 'Total Members', 'Total Claimed Members',\n",
       "       'Files uploaded', 'Messages posted by members', 'Name',\n",
       "       'Public channels, single-workspace', 'Messages posted',\n",
       "       'Messages posted by apps'],\n",
       "      dtype='object')"
      ]
     },
     "execution_count": 5,
     "metadata": {},
     "output_type": "execute_result"
    }
   ],
   "source": [
    "dat.columns"
   ]
  },
  {
   "cell_type": "code",
   "execution_count": 6,
   "id": "2f1db1f4",
   "metadata": {},
   "outputs": [],
   "source": [
    "dat.rename(columns={'Percent of messages, public channels':'%_Pb', \n",
    "                    'Percent of messages, private channels':'%_priv',\n",
    "                    'Percent of messages, DMs':'%_dir',\n",
    "                    'Percent of views, public channels':'%_view_pb',\n",
    "                    'Percent of views, private channels':'%_view_priv',\n",
    "                    'Messages posted':'msg_posted',\n",
    "                    'Messages posted by apps':'msg_post_apps'\n",
    "                   }, inplace=True)"
   ]
  },
  {
   "cell_type": "code",
   "execution_count": 7,
   "id": "02522aed",
   "metadata": {},
   "outputs": [
    {
     "name": "stdout",
     "output_type": "stream",
     "text": [
      "<class 'pandas.core.frame.DataFrame'>\n",
      "RangeIndex: 27 entries, 0 to 26\n",
      "Data columns (total 30 columns):\n",
      " #   Column                             Non-Null Count  Dtype         \n",
      "---  ------                             --------------  -----         \n",
      " 0   Date                               27 non-null     datetime64[ns]\n",
      " 1   Total Enabled Membership           27 non-null     int64         \n",
      " 2   Enabled Full Members               27 non-null     int64         \n",
      " 3   Enabled Guests                     27 non-null     int64         \n",
      " 4   Daily active members               27 non-null     int64         \n",
      " 5   Daily members posting messages     27 non-null     int64         \n",
      " 6   Weekly active members              27 non-null     int64         \n",
      " 7   Weekly members posting messages    27 non-null     int64         \n",
      " 8   Messages in public channels        27 non-null     int64         \n",
      " 9   Messages in private channels       27 non-null     int64         \n",
      " 10  Messages in shared channels        27 non-null     int64         \n",
      " 11  Messages in DMs                    27 non-null     int64         \n",
      " 12  %_Pb                               27 non-null     float64       \n",
      " 13  %_priv                             27 non-null     float64       \n",
      " 14  %_dir                              27 non-null     float64       \n",
      " 15  %_view_pb                          27 non-null     float64       \n",
      " 16  %_view_priv                        27 non-null     float64       \n",
      " 17  Percent of views, DMs              27 non-null     float64       \n",
      " 18  Total Full Members                 27 non-null     int64         \n",
      " 19  Total Guests                       27 non-null     int64         \n",
      " 20  Total Claimed Full Members         27 non-null     int64         \n",
      " 21  Total Claimed Guests               27 non-null     int64         \n",
      " 22  Total Members                      27 non-null     int64         \n",
      " 23  Total Claimed Members              27 non-null     int64         \n",
      " 24  Files uploaded                     27 non-null     int64         \n",
      " 25  Messages posted by members         27 non-null     int64         \n",
      " 26  Name                               27 non-null     int64         \n",
      " 27  Public channels, single-workspace  27 non-null     int64         \n",
      " 28  msg_posted                         27 non-null     int64         \n",
      " 29  msg_post_apps                      27 non-null     int64         \n",
      "dtypes: datetime64[ns](1), float64(6), int64(23)\n",
      "memory usage: 6.5 KB\n"
     ]
    }
   ],
   "source": [
    "dat.info()"
   ]
  },
  {
   "cell_type": "code",
   "execution_count": 82,
   "id": "7845de88",
   "metadata": {},
   "outputs": [
    {
     "data": {
      "text/plain": [
       "<matplotlib.legend.Legend at 0x15ed15f24c0>"
      ]
     },
     "execution_count": 82,
     "metadata": {},
     "output_type": "execute_result"
    },
    {
     "data": {
      "image/png": "[encoded data removed]",
      "text/plain": [
       "<Figure size 864x576 with 1 Axes>"
      ]
     },
     "metadata": {},
     "output_type": "display_data"
    }
   ],
   "source": [
    "# Index liste mit Weekends\n",
    "q = dat['Date'].dt.weekday >= 5\n",
    "\n",
    "\n",
    "fig = plt.figure(figsize=(12,8))\n",
    "ax = fig.clf\n",
    "ax = fig.add_subplot(1,1,1)\n",
    "ax.grid('visible')\n",
    "\n",
    "labels = dat['Date'].astype('str')\n",
    "x = np.arange(len(labels))\n",
    "width = 0.35\n",
    "\n",
    "pp0 = ax.bar(x - width/2, dat['%_dir']*100, width, color = '#FD9200', label='Direct_CH')\n",
    "pp1 = ax.bar(x + width/2, dat['%_Pb']*100, width, color = '#5D8352', label='Pub-CH')\n",
    "\n",
    "plt.suptitle('SLACK Kommunikation auf Privat u. Public Channels ', \n",
    "             c= '#0000CC', \n",
    "             fontsize=24, \n",
    "             fontweight = 'bold', \n",
    "             family = 'arial')\n",
    "plt.title('letzte 30 Tage', \n",
    "             c= '#0000CC', \n",
    "             fontsize=14, \n",
    "             fontweight = 'normal', \n",
    "             family = 'arial')\n",
    "\n",
    "ax.set_xticks(x, [x[2:] for x in labels], horizontalalignment = 'right')\n",
    "ax.tick_params(axis='x', rotation=45, size=12, labelsize=14)\n",
    "\n",
    "for i, label in enumerate(ax.get_xticklabels(which = 'major')):\n",
    "    label.set(color='black', size = 14)\n",
    "    if q[i] == True:\n",
    "        label.set(color='blue', size = 14)\n",
    "\n",
    "ax.tick_params(axis='y', rotation=0, size=5, labelsize=14)\n",
    "ax.set_xlabel('Date', fontsize=20, c= [0.0,0.0,0.0])\n",
    "ax.set_ylabel('Activity in %', fontsize=20, c= [0.0,0.0,0.0])\n",
    "\n",
    "ax.legend(loc='upper right')\n"
   ]
  },
  {
   "cell_type": "code",
   "execution_count": null,
   "id": "5767806a",
   "metadata": {},
   "outputs": [],
   "source": []
  }
 ],
 "metadata": {
  "kernelspec": {
   "display_name": "Python 3 (ipykernel)",
   "language": "python",
   "name": "python3"
  },
  "language_info": {
   "codemirror_mode": {
    "name": "ipython",
    "version": 3
   },
   "file_extension": ".py",
   "mimetype": "text/x-python",
   "name": "python",
   "nbconvert_exporter": "python",
   "pygments_lexer": "ipython3",
   "version": "3.9.7"
  }
 },
 "nbformat": 4,
 "nbformat_minor": 5
}
